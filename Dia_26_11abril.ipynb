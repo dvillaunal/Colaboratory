{
  "nbformat": 4,
  "nbformat_minor": 0,
  "metadata": {
    "colab": {
      "name": "Borrador_100DaysOfCode.ipynb",
      "provenance": [],
      "collapsed_sections": [],
      "authorship_tag": "ABX9TyP8DyUSQGgI5G1KS3Qvzu7y",
      "include_colab_link": true
    },
    "kernelspec": {
      "display_name": "Python 3",
      "language": "python",
      "name": "python3"
    },
    "language_info": {
      "codemirror_mode": {
        "name": "ipython",
        "version": 3
      },
      "file_extension": ".py",
      "mimetype": "text/x-python",
      "name": "python",
      "nbconvert_exporter": "python",
      "pygments_lexer": "ipython3",
      "version": "3.7.7"
    }
  },
  "cells": [
    {
      "cell_type": "markdown",
      "metadata": {
        "id": "view-in-github",
        "colab_type": "text"
      },
      "source": [
        "<a href=\"https://colab.research.google.com/github/dvillaunal/Colaboratory/blob/main/Dia_26_11abril.ipynb\" target=\"_parent\"><img src=\"https://colab.research.google.com/assets/colab-badge.svg\" alt=\"Open In Colab\"/></a>"
      ]
    },
    {
      "cell_type": "markdown",
      "metadata": {
        "id": "tumaKFbbuzWu"
      },
      "source": [
        "# Librería Pandas (realice al menos dos ejercicios con DataFrames de Pandas que requieran cargar archivos externos en formato *.xls y guardar las respuestas a los ejercicios en archvos *.xls independientes para cada ejercicio)"
      ]
    },
    {
      "cell_type": "code",
      "metadata": {
        "id": "yFmzOdqXu6r6",
        "colab": {
          "base_uri": "https://localhost:8080/"
        },
        "outputId": "f1121cb5-7967-4c43-f334-c0528c157b85"
      },
      "source": [
        "'''\n",
        "¿Qué es un DataFrame?:\n",
        "\n",
        "Un DataFrame de Pandas es una estructura de datos bidimensional,\n",
        "como una matriz bidimensional o una tabla con filas y columnas.\n",
        "'''\n",
        "import numpy as np\n",
        "import pandas as pd\n",
        "\n",
        "modelo = pd.ExcelFile('Modelo_Factura.xls')\n",
        "\n",
        "'''\n",
        "Creamos un dataframe donde almacenamos los datos de la Hoja de Calculo\n",
        "'''\n",
        "dm = modelo.parse('Hoja1')\n",
        "\n",
        "'Visualicemos los datos'\n",
        "print(dm)\n",
        "\n",
        "'''\n",
        "Vamos a calcular con este data frame:\n",
        "-> Bruto (Precio Total sin incluir el iva)\n",
        "-> Iva (16%)\n",
        "-> Total\n",
        "'''\n",
        "\n",
        "# Volvemos a Articulo el index del dataframe:\n",
        "\n",
        "sdm_articulo = dm['ARTICULO'].squeeze()\n",
        "dm = dm.set_index('ARTICULO')\n",
        "\n",
        "print('Visualizamos el Cambio: ')\n",
        "print(dm)\n",
        "\n",
        "# Convertimos el DataFrame a Series:\n",
        "'con el metodo .squeeze()'\n",
        "'nos deveuelve una serie data frame selecionado'\n",
        "\n",
        "sdm_precio = dm['PRECIO'].squeeze()\n",
        "sdm_cantidad = dm['CANTIDAD'].squeeze()\n",
        "\n",
        "'Calculamos el Valor Bruto de los productos'\n",
        "s_bruto = sdm_precio * sdm_cantidad\n",
        "\n",
        "'Calculamos el IVA (16%) de los productos'\n",
        "s_Iva = sdm_precio * (0.16)\n",
        "\n",
        "'Calculamos el Valor TOTAL de los productos'\n",
        "s_total = s_bruto + s_Iva\n",
        "\n",
        "# Ahora concatenamos varias series para hacer un dataframe:\n",
        "'con el metodo .concat() podemos concatenar en este caso una lista de series'\n",
        "'con el axis=1, le decimos que organice los valores, ya que por defecto truncara uno con otros= una liista infinita'\n",
        "resultados0 = pd.concat([sdm_precio,sdm_cantidad,s_bruto,s_Iva,s_total], axis=1)\n",
        "\n",
        "# Ponemos nombre a las columnas del datafram dado:\n",
        "resultados0.columns = ['PRECIO', 'CANTIDAD','BRUTO','IVA_16%(xU)', 'TOTAL']\n",
        "resultados0.to_excel('Resultados_Factura.xls')\n",
        "print(resultados0)\n",
        "\n",
        "'Con el metodo .describe() podemos generar estadisticas basicas del dataframe selecionado'\n",
        "'nos calcula, la media, varianza, sd, los percentiles y minimos & maximos'\n",
        "\n",
        "estaR0 = resultados0.describe()\n",
        "estaR0.to_excel('Estadisticas_Resultados_Factura.xls')\n",
        "\n",
        "# Ejercicio 2:\n",
        "'''\n",
        "Dada una base de datos de 'Sueldo y Comisiones de vendedores'\n",
        "Vamos a Cacular:\n",
        "-> Comisíon por ventas del mes (2% x Venta del Mes)\n",
        "-> El total del sueldo, (Sueldo base + Comisíones)\n",
        "  -> Sueldo base == $ 90.000\n",
        "-> Porcentaje de ventas s/total (VentaxPersona/Total de ventas)\n",
        "'''\n",
        "\n",
        "base = pd.ExcelFile('Sueldo_Comision.xls')\n",
        "\n",
        "'''\n",
        "Creamos un dataframe donde almacenamos los datos de la Hoja de Calculo\n",
        "'''\n",
        "\n",
        "db = base.parse('Hoja1')\n",
        "\n",
        "'Visualicemos los datos'\n",
        "print(db)\n",
        "\n",
        "'Cambiamos el Indice por el nombre de cada vendedor'\n",
        "db = db.set_index('Vendedor')\n",
        "\n",
        "\n",
        "# Vovelmos series las columnas del dataframe para hacer operaciones aritmeticas:\n",
        "sdb_ventas = db['Ventas'].squeeze()\n",
        "sdb_sueldobase = db['Sueldo Base'].squeeze()\n",
        "\n",
        "# Calculemos comisíon por ventas del mes:\n",
        "s_comision = sdb_ventas * (0.02)\n",
        "\n",
        "# Calculamos total (sueldo base + comision):\n",
        "'-> Sueldo base == $ 90.000'\n",
        "\n",
        "sueldo_base = 90000\n",
        "\n",
        "s_total = sueldo_base + s_comision\n",
        "\n",
        "# CALCULAMOS % de ventas s/total:\n",
        "'''\n",
        "dado un data frame\n",
        "obtenemos la suma de cada columna usando la función sum()\n",
        "df['COLUMNA'].sum()\n",
        "\n",
        "retorna la suma de los elementos de esa columna\n",
        "'''\n",
        "\n",
        "suma_ventas = db['Ventas'].sum()\n",
        "\n",
        "s_por_ventas = sdb_ventas / suma_ventas\n",
        "\n",
        "# Volvemos la series un dataframe:\n",
        "resultados1 = pd.concat([sdb_ventas, sdb_sueldobase, s_comision, s_total, s_por_ventas], axis=1)\n",
        "\n",
        "resultados1.columns = ['VENTAS', 'SUELDO BASE', 'COMISIÓN', 'TOTAL', '% Ventas s/total']\n",
        "\n",
        "resultados1.to_excel('Resultados2.xls')\n",
        "\n",
        "'Estadisticas basicas del archivo anterior:'\n",
        "estaR1 = resultados1.describe()\n",
        "estaR1.to_excel('Estadisticas_Resultados_Sueldo_Comision.xls')\n"
      ],
      "execution_count": 49,
      "outputs": [
        {
          "output_type": "stream",
          "text": [
            "         ARTICULO  PRECIO  CANTIDAD\n",
            "0       Impresora   29900         2\n",
            "1  CPU Pentium II  110000         4\n",
            "2   Monitor color   52000         4\n",
            "3           Ratón     600         4\n",
            "4         Teclado    1500         4\n",
            "Visualizamos el Cambio: \n",
            "                PRECIO  CANTIDAD\n",
            "ARTICULO                        \n",
            "Impresora        29900         2\n",
            "CPU Pentium II  110000         4\n",
            "Monitor color    52000         4\n",
            "Ratón              600         4\n",
            "Teclado           1500         4\n",
            "                PRECIO  CANTIDAD   BRUTO  IVA_16%(xU)     TOTAL\n",
            "ARTICULO                                                       \n",
            "Impresora        29900         2   59800       4784.0   64584.0\n",
            "CPU Pentium II  110000         4  440000      17600.0  457600.0\n",
            "Monitor color    52000         4  208000       8320.0  216320.0\n",
            "Ratón              600         4    2400         96.0    2496.0\n",
            "Teclado           1500         4    6000        240.0    6240.0\n",
            "            Vendedor   Ventas  Sueldo Base\n",
            "0        Martín Peña  4600000        90000\n",
            "1     González Suevo  6000000        90000\n",
            "2     Arana Higueras  3900000        90000\n",
            "3      Sierra Garzón  7600000        90000\n",
            "4      Alvarez Justo  8250000        90000\n",
            "5     Carnicer Heras  3500000        90000\n",
            "6         Lopez Vara  5350000        90000\n",
            "7     Hidalgo Jimena  4200000        90000\n",
            "8        Vargas Cayo  7900000        90000\n",
            "9   Hoffman Kocinski  6780000        90000\n",
            "10      Lisado Hoyos  4690000        90000\n",
            "11     Gracia Fraile  3000000        90000\n",
            "12     Castro Suárez  3100000        90000\n"
          ],
          "name": "stdout"
        }
      ]
    },
    {
      "cell_type": "code",
      "metadata": {
        "colab": {
          "base_uri": "https://localhost:8080/"
        },
        "id": "ReF6pJl-TWQA",
        "outputId": "f1c8c064-3366-4434-df1e-c3060c1f78a9"
      },
      "source": [
        ""
      ],
      "execution_count": 48,
      "outputs": [
        {
          "output_type": "stream",
          "text": [
            "            Vendedor   Ventas  Sueldo Base\n",
            "0        Martín Peña  4600000        90000\n",
            "1     González Suevo  6000000        90000\n",
            "2     Arana Higueras  3900000        90000\n",
            "3      Sierra Garzón  7600000        90000\n",
            "4      Alvarez Justo  8250000        90000\n",
            "5     Carnicer Heras  3500000        90000\n",
            "6         Lopez Vara  5350000        90000\n",
            "7     Hidalgo Jimena  4200000        90000\n",
            "8        Vargas Cayo  7900000        90000\n",
            "9   Hoffman Kocinski  6780000        90000\n",
            "10      Lisado Hoyos  4690000        90000\n",
            "11     Gracia Fraile  3000000        90000\n",
            "12     Castro Suárez  3100000        90000\n"
          ],
          "name": "stdout"
        }
      ]
    }
  ]
}