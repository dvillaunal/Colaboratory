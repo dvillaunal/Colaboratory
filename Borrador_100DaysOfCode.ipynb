{
  "nbformat": 4,
  "nbformat_minor": 0,
  "metadata": {
    "colab": {
      "name": "Borrador_100DaysOfCode.ipynb",
      "provenance": [],
      "collapsed_sections": [],
      "authorship_tag": "ABX9TyOH/xwUKyCssIPwZSmxoL90",
      "include_colab_link": true
    },
    "kernelspec": {
      "name": "python3",
      "display_name": "Python 3"
    }
  },
  "cells": [
    {
      "cell_type": "markdown",
      "metadata": {
        "id": "view-in-github",
        "colab_type": "text"
      },
      "source": [
        "<a href=\"https://colab.research.google.com/github/dvillaunal/Colaboratory/blob/main/Borrador_100DaysOfCode.ipynb\" target=\"_parent\"><img src=\"https://colab.research.google.com/assets/colab-badge.svg\" alt=\"Open In Colab\"/></a>"
      ]
    },
    {
      "cell_type": "code",
      "metadata": {
        "id": "9jzk0324BzC7"
      },
      "source": [
        "# Librería String y sus aplicaciones\n",
        "\n",
        "'''\n",
        "(realice al menos dos ejercicios que requieran leer archivos en formatos *.txt\n",
        "y guarden las respuestas a los ejercicios en archivos *.txt independientes)\n",
        "'''\n",
        "\n",
        "'''\n",
        "Las constantes en el módulo de cadena se pueden usar para especificar\n",
        "categorías de caracteres como ascii_letters y dígitos.\n",
        "'''\n",
        "import string\n",
        "\n",
        "for x in dir(string):\n",
        "  print('----------')\n",
        "  print(x)\n",
        "  print('----------')\n",
        "\n",
        "else:\n",
        "  print('+++++++++++++++++++++++++++++++')\n",
        "  print('                                 ')\n",
        "  print('                                 ')\n",
        "\n",
        "'''\n",
        "La librería string viene por defecto (puede ser invocada sin necesidad de ser instalada)\n",
        "en Python 3, permite acceder a atributos nuevos relacionados con los strings,\n",
        "observe a continuación sus usos más comunes:\n",
        "'''\n",
        "\n",
        "try:\n",
        "  basestring\n",
        "except NameError:\n",
        "  basestring = str\n",
        "\n",
        "for i in dir(string):\n",
        "  if i.startswith(\"_\"):\n",
        "    continue\n",
        "  x = getattr(string, i)\n",
        "  if isinstance(x, basestring):\n",
        "    print('%s=%s' % (i, repr(x)))\n",
        "    print()\n",
        "\n",
        "\n",
        "# .capwords() => Convierte la primera letra de cada palabra en texto\n",
        "s = \"No hay nadie que ame el dolor mismo, que lo busque, lo encuentre y lo quiera, simplemente porque es el dolor.\"\n",
        "\n",
        "print(s)\n",
        "print(string.capwords(s))\n",
        "\n",
        "'''\n",
        "Nota:\n",
        "Los resultados son los mismos que si llamara split (),\n",
        "pusiera en mayúscula las palabras en la lista resultante\n",
        "y luego llamara a join () para combinar los resultados.\n",
        "'''\n",
        "\n",
        "# .translate() le doy valores numericos (algo como criptografia) a letras\n",
        "'Repetimos valores, porque solo se le asignan digitos, no numeros'\n",
        "\n",
        "x = 'Nutrición de las mayores puntuaciones. Profesionalismo.'\n",
        "\n",
        "print(x)\n",
        "x.translate(str.maketrans('aeiou', '12345'))\n",
        "\n",
        "\n",
        "# Templates:\n",
        "'''\n",
        "Esta clase se usa para crear una plantilla de cadena\n",
        "para sustituciones de cadena más simples:\n",
        "'''\n",
        "t = string.Template('La $or funciona bajo el $umbrella de la \"Schola\" ($gener).')\n",
        "txt = t.substitute()"
      ],
      "execution_count": null,
      "outputs": []
    }
  ]
}