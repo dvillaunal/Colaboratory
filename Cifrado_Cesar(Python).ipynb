{
  "nbformat": 4,
  "nbformat_minor": 0,
  "metadata": {
    "colab": {
      "name": "Borrador_100DaysOfCode.ipynb",
      "provenance": [],
      "collapsed_sections": [],
      "authorship_tag": "ABX9TyMn3TYANJzlYL6iwYQKSapE",
      "include_colab_link": true
    },
    "kernelspec": {
      "name": "python3",
      "display_name": "Python 3"
    }
  },
  "cells": [
    {
      "cell_type": "markdown",
      "metadata": {
        "id": "view-in-github",
        "colab_type": "text"
      },
      "source": [
        "<a href=\"https://colab.research.google.com/github/dvillaunal/Colaboratory/blob/main/Cifrado_Cesar(Python).ipynb\" target=\"_parent\"><img src=\"https://colab.research.google.com/assets/colab-badge.svg\" alt=\"Open In Colab\"/></a>"
      ]
    },
    {
      "cell_type": "code",
      "metadata": {
        "id": "lnB7DWPmXoiV"
      },
      "source": [
        "# Obtenemos mensaje a cifrar desde el usuario\n",
        "# llamamos a upper para obtener sólo mayúsculas\n",
        "texto = input(\"Mensaje > \").upper()\n",
        "\n",
        "# Pedimos al usuario la cantidad de desplazamiento\n",
        "n = int(input(\"Desplazamiento > \"))\n",
        "\n",
        "# Abecedario a utilizar en el cifrado\n",
        "abc = \"ABCDEFGHIJKLMNÑOPQRSTUVWXYZ\"\n",
        "\n",
        "# Variable para guardar mensaje cifrado\n",
        "cifrado = \"\""
      ],
      "execution_count": null,
      "outputs": []
    },
    {
      "cell_type": "code",
      "metadata": {
        "id": "pz-baIG7XlnU"
      },
      "source": [
        "# Iteramos por cara letra del mensaje\n",
        "for l in texto:\n",
        "    # Si la letra está en el abecedario se reemplaza\n",
        "    if l in abc:\n",
        "        pos_letra = abc.index(l)\n",
        "        # Sumamos para movernos a la derecha del abc\n",
        "        nueva_pos = (pos_letra + n) % len(abc)\n",
        "        cifrado+= abc[nueva_pos]\n",
        "    else:\n",
        "        # Si no está en el abecedario sólo añadelo\n",
        "        cifrado+= l\n",
        "\n",
        "print(\"Mensaje cifrado:\", cifrado)"
      ],
      "execution_count": null,
      "outputs": []
    },
    {
      "cell_type": "code",
      "metadata": {
        "id": "Kc9DgU14XSYG"
      },
      "source": [
        "texto = input(\"Mensaje cifrado > \").upper()\n",
        "\n",
        "# Abecedario a utilizar en el cifrado\n",
        "abc = \"ABCDEFGHIJKLMNÑOPQRSTUVWXYZ\"\n",
        "\n",
        "# Iteramos por posibles valores de desplazamiento\n",
        "for i in range(28):\n",
        "    # Guardar posible mensaje\n",
        "    descifrado = \"\"\n",
        "    for l in texto:\n",
        "        # Si la letra está en el abecedario reemplazamos\n",
        "        if l in abc:\n",
        "            pos_letra = abc.index(l)\n",
        "            # Restamos para movernos a la izquierda\n",
        "            nueva_pos = (pos_letra - i) % len(abc)\n",
        "            descifrado += abc[nueva_pos]\n",
        "        else:\n",
        "            descifrado+= l\n",
        "    msj = (f\"ROT-{i}:\", descifrado)\n",
        "    print(msj)"
      ],
      "execution_count": null,
      "outputs": []
    }
  ]
}